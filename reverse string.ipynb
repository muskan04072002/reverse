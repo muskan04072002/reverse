{
 "cells": [
  {
   "cell_type": "code",
   "execution_count": 2,
   "id": "345cdcc1",
   "metadata": {},
   "outputs": [
    {
     "name": "stdout",
     "output_type": "stream",
     "text": [
      "Original string: 1234abcd\n",
      "Reverse string: dcba4321\n"
     ]
    }
   ],
   "source": [
    "def reverse(itr):\n",
    "    return itr[::-1]\n",
    "\n",
    "str1 = '1234abcd'\n",
    "print(\"Original string:\",str1)\n",
    "print(\"Reverse string:\",reverse('1234abcd'))"
   ]
  },
  {
   "cell_type": "code",
   "execution_count": null,
   "id": "b360ef69",
   "metadata": {},
   "outputs": [],
   "source": []
  }
 ],
 "metadata": {
  "kernelspec": {
   "display_name": "Python 3 (ipykernel)",
   "language": "python",
   "name": "python3"
  },
  "language_info": {
   "codemirror_mode": {
    "name": "ipython",
    "version": 3
   },
   "file_extension": ".py",
   "mimetype": "text/x-python",
   "name": "python",
   "nbconvert_exporter": "python",
   "pygments_lexer": "ipython3",
   "version": "3.9.12"
  }
 },
 "nbformat": 4,
 "nbformat_minor": 5
}
